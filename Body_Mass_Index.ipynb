{
 "cells": [
  {
   "cell_type": "code",
   "execution_count": 6,
   "id": "7b239ff7",
   "metadata": {},
   "outputs": [],
   "source": [
    "# project 4 - calculating bmi using elif condition"
   ]
  },
  {
   "cell_type": "code",
   "execution_count": 7,
   "id": "3b5d3c0d",
   "metadata": {},
   "outputs": [],
   "source": [
    "# using the print() function"
   ]
  },
  {
   "cell_type": "code",
   "execution_count": 27,
   "id": "b0c7c53d",
   "metadata": {},
   "outputs": [
    {
     "name": "stdout",
     "output_type": "stream",
     "text": [
      "Welcome to LeeCodess :)\n"
     ]
    }
   ],
   "source": [
    "print(\"Welcome to LeeCodess :)\")"
   ]
  },
  {
   "cell_type": "code",
   "execution_count": 9,
   "id": "b4429279",
   "metadata": {},
   "outputs": [],
   "source": [
    "# using the input() function"
   ]
  },
  {
   "cell_type": "code",
   "execution_count": 23,
   "id": "234e3d8f",
   "metadata": {},
   "outputs": [
    {
     "name": "stdout",
     "output_type": "stream",
     "text": [
      "what is your age?\n",
      "23\n",
      "what is your weight(in kg)?\n",
      "65\n",
      "what is your height (in m)?\n",
      "1.61\n"
     ]
    }
   ],
   "source": [
    "age=int(input(\"what is your age?\\n\"))\n",
    "weight=float(input(\"what is your weight(in kg)?\\n\"))\n",
    "height=float(input(\"what is your height (in m)?\\n\"))"
   ]
  },
  {
   "cell_type": "code",
   "execution_count": null,
   "id": "d2a79ad7",
   "metadata": {},
   "outputs": [],
   "source": [
    "# using elif() condition"
   ]
  },
  {
   "cell_type": "code",
   "execution_count": 29,
   "id": "f49e7528",
   "metadata": {},
   "outputs": [
    {
     "name": "stdout",
     "output_type": "stream",
     "text": [
      "now lets calculate your bmi\n",
      "your BMI is 25 and therefore, you are little over weight!\n"
     ]
    }
   ],
   "source": [
    "bmi = int(weight // height**2)\n",
    "\n",
    "if age>15:\n",
    "    print(\"now lets calculate your bmi\")\n",
    "    \n",
    "    if bmi < 18.25:\n",
    "        print(f\"your BMI is {bmi} and therefore, you are under weight!\")\n",
    "    elif bmi < 25:\n",
    "        print(f\"your BMI is {bmi} and therefore, your weight is normal!\")\n",
    "    elif bmi < 30:\n",
    "        print(f\"your BMI is {bmi} and therefore, you are little over weight!\")\n",
    "    elif bmi < 35:\n",
    "        print(f\"your BMI is {bmi} and therefore, you are obese!\")\n",
    "    else:\n",
    "        print(f\"your BMI is {bmi} and therefore, you are clinically obese!\")\n",
    "    \n",
    "else:\n",
    "    print(\"you are too young to worry about bmi\")"
   ]
  },
  {
   "cell_type": "code",
   "execution_count": 25,
   "id": "fdb6c741",
   "metadata": {},
   "outputs": [
    {
     "name": "stdout",
     "output_type": "stream",
     "text": [
      "end\n"
     ]
    }
   ],
   "source": [
    "print(\"end\")"
   ]
  }
 ],
 "metadata": {
  "kernelspec": {
   "display_name": "Python 3 (ipykernel)",
   "language": "python",
   "name": "python3"
  },
  "language_info": {
   "codemirror_mode": {
    "name": "ipython",
    "version": 3
   },
   "file_extension": ".py",
   "mimetype": "text/x-python",
   "name": "python",
   "nbconvert_exporter": "python",
   "pygments_lexer": "ipython3",
   "version": "3.9.7"
  }
 },
 "nbformat": 4,
 "nbformat_minor": 5
}
