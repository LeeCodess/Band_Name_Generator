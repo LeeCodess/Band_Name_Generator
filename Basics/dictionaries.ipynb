{
 "cells": [
  {
   "cell_type": "code",
   "execution_count": 5,
   "id": "d739f73d",
   "metadata": {},
   "outputs": [],
   "source": [
    "# project - secret auction"
   ]
  },
  {
   "cell_type": "code",
   "execution_count": 52,
   "id": "b07f3b13",
   "metadata": {},
   "outputs": [
    {
     "name": "stdout",
     "output_type": "stream",
     "text": [
      "the winner of this auction is agasthya with a bid of $3458\n"
     ]
    }
   ],
   "source": [
    "from IPython.display import clear_output \n",
    "\n",
    "bids = {}\n",
    "bidding_finished = False\n",
    "\n",
    "def finding_highest_bidder(bids):\n",
    "    highest_bid = 0\n",
    "    winner = \"\"\n",
    "    for bidder in bids:\n",
    "        bid_price = bids[bidder]\n",
    "        if bid_price > highest_bid:\n",
    "            highest_bid = bid_price\n",
    "            winner = bidder\n",
    "    print(f\"the winner of this auction is {winner} with a bid of ${highest_bid}\")\n",
    "\n",
    "while not bidding_finished:\n",
    "    name = input(\"what is your name?\\n\")\n",
    "    price = int(input(\"how much would you like to bid?\\n$\"))\n",
    "    \n",
    "    bids[name] = price\n",
    "    \n",
    "    should_continue = input(\"are there any other bidders? type 'yes' or 'no'\\n\")\n",
    "    if should_continue == \"no\":\n",
    "        bidding_finished = True \n",
    "        clear_output()\n",
    "        finding_highest_bidder(bids)\n",
    "    elif should_continue == \"yes\":\n",
    "        bidding_finished = False\n",
    "        clear_output()"
   ]
  },
  {
   "cell_type": "code",
   "execution_count": null,
   "id": "8827df2e",
   "metadata": {},
   "outputs": [],
   "source": []
  }
 ],
 "metadata": {
  "kernelspec": {
   "display_name": "Python 3 (ipykernel)",
   "language": "python",
   "name": "python3"
  },
  "language_info": {
   "codemirror_mode": {
    "name": "ipython",
    "version": 3
   },
   "file_extension": ".py",
   "mimetype": "text/x-python",
   "name": "python",
   "nbconvert_exporter": "python",
   "pygments_lexer": "ipython3",
   "version": "3.9.12"
  }
 },
 "nbformat": 4,
 "nbformat_minor": 5
}
