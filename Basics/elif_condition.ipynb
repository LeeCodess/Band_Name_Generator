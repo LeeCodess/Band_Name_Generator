{
 "cells": [
  {
   "cell_type": "code",
   "execution_count": 1,
   "id": "b7539d82",
   "metadata": {},
   "outputs": [],
   "source": [
    "# project 1 - body mass index calculator"
   ]
  },
  {
   "cell_type": "code",
   "execution_count": 20,
   "id": "e598b662",
   "metadata": {},
   "outputs": [
    {
     "name": "stdout",
     "output_type": "stream",
     "text": [
      "what is your age?\n",
      "23\n",
      "what is your weight(in kg)?\n",
      "65\n",
      "what is your height (in m)?\n",
      "1.61\n"
     ]
    }
   ],
   "source": [
    "age = int(input(\"what is your age?\\n\"))\n",
    "weight = float(input(\"what is your weight(in kg)?\\n\"))\n",
    "height = float(input(\"what is your height (in m)?\\n\"))"
   ]
  },
  {
   "cell_type": "code",
   "execution_count": 21,
   "id": "2e851a9a",
   "metadata": {},
   "outputs": [
    {
     "name": "stdout",
     "output_type": "stream",
     "text": [
      "now lets calculate your bmi\n",
      "your BMI is 25 and therefore, you are little over weight!\n"
     ]
    }
   ],
   "source": [
    "bmi = int(weight // height**2)\n",
    "\n",
    "if age > 15:\n",
    "    print(\"now lets calculate your bmi\")\n",
    "    \n",
    "    if bmi < 18.25:\n",
    "        print(f\"your BMI is {bmi} and therefore, you are under weight!\")\n",
    "    elif bmi < 25:\n",
    "        print(f\"your BMI is {bmi} and therefore, your weight is normal!\")\n",
    "    elif bmi < 30:\n",
    "        print(f\"your BMI is {bmi} and therefore, you are little over weight!\")\n",
    "    elif bmi < 35:\n",
    "        print(f\"your BMI is {bmi} and therefore, you are obese!\")\n",
    "    else:\n",
    "        print(f\"your BMI is {bmi} and therefore, you are clinically obese!\")\n",
    "    \n",
    "else:\n",
    "    print(\"you are too young to worry about bmi\")"
   ]
  }
 ],
 "metadata": {
  "kernelspec": {
   "display_name": "Python 3 (ipykernel)",
   "language": "python",
   "name": "python3"
  },
  "language_info": {
   "codemirror_mode": {
    "name": "ipython",
    "version": 3
   },
   "file_extension": ".py",
   "mimetype": "text/x-python",
   "name": "python",
   "nbconvert_exporter": "python",
   "pygments_lexer": "ipython3",
   "version": "3.9.12"
  }
 },
 "nbformat": 4,
 "nbformat_minor": 5
}
