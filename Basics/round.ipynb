{
 "cells": [
  {
   "cell_type": "code",
   "execution_count": 30,
   "id": "59b28c22",
   "metadata": {},
   "outputs": [],
   "source": [
    "# project - using python to split the bill"
   ]
  },
  {
   "cell_type": "code",
   "execution_count": 33,
   "id": "57c0b66d",
   "metadata": {},
   "outputs": [
    {
     "name": "stdout",
     "output_type": "stream",
     "text": [
      "what is the total bill?\n",
      "34567\n",
      "your total bill amount is rs. 34567\n"
     ]
    }
   ],
   "source": [
    "total_bill = input(\"what is the total bill?\\n\")\n",
    "\n",
    "print(f\"your total bill amount is rs. {total_bill}\")"
   ]
  },
  {
   "cell_type": "code",
   "execution_count": 34,
   "id": "a925bd9d",
   "metadata": {},
   "outputs": [
    {
     "name": "stdout",
     "output_type": "stream",
     "text": [
      "what percentange would you like to tip? 10, 12, 14, 16\n",
      "16\n",
      "16 % is quite generous of you :)\n"
     ]
    }
   ],
   "source": [
    "tip = input(\"what percentange would you like to tip? 10, 12, 14, 16\\n\")\n",
    "\n",
    "print(f\"{tip} % is quite generous of you :)\")"
   ]
  },
  {
   "cell_type": "code",
   "execution_count": 38,
   "id": "273179a8",
   "metadata": {},
   "outputs": [
    {
     "name": "stdout",
     "output_type": "stream",
     "text": [
      "your total tip is rs. 5530.72\n",
      "your total payable amount is rs. 40097.72\n"
     ]
    }
   ],
   "source": [
    "total_tip = float(total_bill) * (float(tip) / 100)\n",
    "print(f\"your total tip is rs. {total_tip}\")\n",
    "\n",
    "bill_plus_tip = float(total_bill) + float(total_tip)\n",
    "print(f\"your total payable amount is rs. {bill_plus_tip}\")"
   ]
  },
  {
   "cell_type": "code",
   "execution_count": 39,
   "id": "84499899",
   "metadata": {},
   "outputs": [
    {
     "name": "stdout",
     "output_type": "stream",
     "text": [
      "how many people to split the bill with?\n",
      "8\n"
     ]
    }
   ],
   "source": [
    "total_people = input(\"how many people to split the bill with?\\n\")"
   ]
  },
  {
   "cell_type": "code",
   "execution_count": 40,
   "id": "f279e5d5",
   "metadata": {},
   "outputs": [
    {
     "name": "stdout",
     "output_type": "stream",
     "text": [
      "the per head contribution is Rs. 5012.22 !\n"
     ]
    }
   ],
   "source": [
    "tip_per_head = round(float(bill_plus_tip) / int(total_people), 2)\n",
    "\n",
    "print(f\"the per head contribution is Rs. {tip_per_head} !\")"
   ]
  }
 ],
 "metadata": {
  "kernelspec": {
   "display_name": "Python 3 (ipykernel)",
   "language": "python",
   "name": "python3"
  },
  "language_info": {
   "codemirror_mode": {
    "name": "ipython",
    "version": 3
   },
   "file_extension": ".py",
   "mimetype": "text/x-python",
   "name": "python",
   "nbconvert_exporter": "python",
   "pygments_lexer": "ipython3",
   "version": "3.9.12"
  }
 },
 "nbformat": 4,
 "nbformat_minor": 5
}
