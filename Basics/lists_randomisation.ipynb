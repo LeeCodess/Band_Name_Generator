{
 "cells": [
  {
   "cell_type": "code",
   "execution_count": null,
   "id": "8c60eaa6",
   "metadata": {},
   "outputs": [],
   "source": [
    "# using lists and random module to make a simple game of rock, paper, scissors"
   ]
  },
  {
   "cell_type": "code",
   "execution_count": 17,
   "id": "1d3d36ab",
   "metadata": {},
   "outputs": [
    {
     "name": "stdout",
     "output_type": "stream",
     "text": [
      "what do you choose? type '0' for rock, '1' for paper, '2' for scissors\n",
      "0\n",
      "\n",
      "    _______\n",
      "---'   ____)\n",
      "      (_____)\n",
      "      (_____)\n",
      "      (____)\n",
      "---.__(___)\n",
      "\n",
      "\n",
      "    _______\n",
      "---'   ____)____\n",
      "          ______)\n",
      "       __________)\n",
      "      (____)\n",
      "---.__(___)\n",
      "\n"
     ]
    }
   ],
   "source": [
    "rock='''\n",
    "    _______\n",
    "---'   ____)\n",
    "      (_____)\n",
    "      (_____)\n",
    "      (____)\n",
    "---.__(___)\n",
    "'''\n",
    "\n",
    "paper='''\n",
    "    _______\n",
    "---'   ____)____\n",
    "          ______)\n",
    "          _______)\n",
    "         _______)\n",
    "---.__________)\n",
    "'''\n",
    "\n",
    "scissors='''\n",
    "    _______\n",
    "---'   ____)____\n",
    "          ______)\n",
    "       __________)\n",
    "      (____)\n",
    "---.__(___)\n",
    "'''\n",
    "\n",
    "import random\n",
    "\n",
    "list=[rock, paper, scissors]\n",
    "\n",
    "human=int(input(\"what do you choose? type '0' for rock, '1' for paper, '2' for scissors\\n\"))\n",
    "print(list[human])\n",
    "\n",
    "computer=random.randint(0,2)\n",
    "\n",
    "if computer==0:\n",
    "  print(rock)\n",
    "elif computer==1:\n",
    "  print(paper)\n",
    "else:\n",
    "  print(scissors)"
   ]
  }
 ],
 "metadata": {
  "kernelspec": {
   "display_name": "Python 3 (ipykernel)",
   "language": "python",
   "name": "python3"
  },
  "language_info": {
   "codemirror_mode": {
    "name": "ipython",
    "version": 3
   },
   "file_extension": ".py",
   "mimetype": "text/x-python",
   "name": "python",
   "nbconvert_exporter": "python",
   "pygments_lexer": "ipython3",
   "version": "3.9.12"
  }
 },
 "nbformat": 4,
 "nbformat_minor": 5
}
