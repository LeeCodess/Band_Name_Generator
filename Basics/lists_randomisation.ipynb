{
 "cells": [
  {
   "cell_type": "code",
   "execution_count": null,
   "id": "ef413933",
   "metadata": {},
   "outputs": [],
   "source": [
    "# using lists and random module to make a simple game of rock, paper, scissors"
   ]
  },
  {
   "cell_type": "code",
   "execution_count": 44,
   "id": "f2e704fb",
   "metadata": {},
   "outputs": [
    {
     "name": "stdout",
     "output_type": "stream",
     "text": [
      "what do you choose? type '0' for rock, '1' for paper, '2' for scissors\n",
      "2\n",
      "you chose\n",
      "\n",
      "    _______\n",
      "---'   ____)____\n",
      "          ______)\n",
      "       __________)\n",
      "      (____)\n",
      "---.__(___)\n",
      "\n",
      "computer chose\n",
      "\n",
      "    _______\n",
      "---'   ____)____\n",
      "          ______)\n",
      "          _______)\n",
      "         _______)\n",
      "---.__________)\n",
      "\n"
     ]
    }
   ],
   "source": [
    "rock='''\n",
    "    _______\n",
    "---'   ____)\n",
    "      (_____)\n",
    "      (_____)\n",
    "      (____)\n",
    "---.__(___)\n",
    "'''\n",
    "\n",
    "paper='''\n",
    "    _______\n",
    "---'   ____)____\n",
    "          ______)\n",
    "          _______)\n",
    "         _______)\n",
    "---.__________)\n",
    "'''\n",
    "\n",
    "scissors='''\n",
    "    _______\n",
    "---'   ____)____\n",
    "          ______)\n",
    "       __________)\n",
    "      (____)\n",
    "---.__(___)\n",
    "'''\n",
    "\n",
    "import random\n",
    "\n",
    "list=[rock, paper, scissors]\n",
    "\n",
    "human=int(input(\"what do you choose? type '0' for rock, '1' for paper, '2' for scissors\\n\"))\n",
    "\n",
    "\n",
    "if human>2:\n",
    "    print(\"you chose an invalid number\")\n",
    "else:\n",
    "    print(\"you chose\")\n",
    "    print(list[human])\n",
    "    \n",
    "    computer=random.randint(0,2)\n",
    "    print(\"computer chose\")\n",
    "    \n",
    "    if computer==0:\n",
    "        print(rock)\n",
    "    elif computer==1:\n",
    "        print(paper)\n",
    "    else:\n",
    "        print(scissors)"
   ]
  }
 ],
 "metadata": {
  "kernelspec": {
   "display_name": "Python 3 (ipykernel)",
   "language": "python",
   "name": "python3"
  },
  "language_info": {
   "codemirror_mode": {
    "name": "ipython",
    "version": 3
   },
   "file_extension": ".py",
   "mimetype": "text/x-python",
   "name": "python",
   "nbconvert_exporter": "python",
   "pygments_lexer": "ipython3",
   "version": "3.9.12"
  }
 },
 "nbformat": 4,
 "nbformat_minor": 5
}
