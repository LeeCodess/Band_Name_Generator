{
 "cells": [
  {
   "cell_type": "code",
   "execution_count": 30,
   "id": "8f11610f",
   "metadata": {},
   "outputs": [],
   "source": [
    "# project - combining multiple if conditions together"
   ]
  },
  {
   "cell_type": "code",
   "execution_count": 32,
   "id": "28156b20",
   "metadata": {},
   "outputs": [
    {
     "name": "stdout",
     "output_type": "stream",
     "text": [
      "what is your height?(in cm)\n",
      "160\n",
      "how old are you?\n",
      "23\n",
      "since you are 23 years old, you can ride this roller coaster\n",
      "your ticket is rs.300\n",
      "do you want a photo?\n",
      "no\n",
      "since you do not want a photo, your total bill is rs.300\n"
     ]
    }
   ],
   "source": [
    "height = int(input(\"what is your height?(in cm)\\n\"))\n",
    "age = int(input(\"how old are you?\\n\"))\n",
    "bill = 0\n",
    "\n",
    "if age > 5:\n",
    "    if height > 120:\n",
    "        print(f\"since you are {age} years old, you can ride this roller coaster\")\n",
    "        \n",
    "        if age <= 12:\n",
    "            bill = 100\n",
    "            print(\"your ticket is rs.100\")\n",
    "            \n",
    "        elif age <= 18:\n",
    "            bill = 200\n",
    "            print(\"your ticket is rs.200\")\n",
    "            \n",
    "        elif age >= 45 and age <= 55:\n",
    "            print(\"please do not worry, your ticket is on the house\")\n",
    "            \n",
    "        else:\n",
    "            bill = 300\n",
    "            print(\"your ticket is rs.300\")\n",
    "            \n",
    "        photo = input(\"do you want a photo?\\n\")\n",
    "        \n",
    "        if photo == \"yes\":\n",
    "            bill += 200\n",
    "            print(f\"since you want a photo, your total bill is rs.{bill}\")\n",
    "\n",
    "        else:\n",
    "          print(f\"since you do not want a photo, your total bill is rs.{bill}\")\n",
    "        \n",
    "    else:    \n",
    "        print(f\"since your height is {height}cm, you cannot ride this roller coaster\")\n",
    "else:\n",
    "    print(f\"since you are {age} years old, you cannot ride this roller coaster\")"
   ]
  }
 ],
 "metadata": {
  "kernelspec": {
   "display_name": "Python 3 (ipykernel)",
   "language": "python",
   "name": "python3"
  },
  "language_info": {
   "codemirror_mode": {
    "name": "ipython",
    "version": 3
   },
   "file_extension": ".py",
   "mimetype": "text/x-python",
   "name": "python",
   "nbconvert_exporter": "python",
   "pygments_lexer": "ipython3",
   "version": "3.9.12"
  }
 },
 "nbformat": 4,
 "nbformat_minor": 5
}
