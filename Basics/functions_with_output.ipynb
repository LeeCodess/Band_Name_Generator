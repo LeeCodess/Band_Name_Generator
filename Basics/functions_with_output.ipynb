{
 "cells": [
  {
   "cell_type": "code",
   "execution_count": null,
   "id": "efdb3a29",
   "metadata": {},
   "outputs": [
    {
     "name": "stdout",
     "output_type": "stream",
     "text": [
      "type a number? \n",
      "223\n",
      "+\n",
      "-\n",
      "*\n",
      "/\n",
      "what operation would you like to perform? \n",
      "+\n",
      "type a number? \n",
      "27\n",
      "223.0 + 27.0 = 250.0\n",
      "would like to perform more operations to 250.0 ? type 'y' if yes or 'n' if no \n",
      "y\n",
      "what operation would you like to perform? \n",
      "-\n",
      "type a number? \n",
      "50\n",
      "250.0 - 50.0 = 200.0\n"
     ]
    }
   ],
   "source": [
    "def add(n1,n2):\n",
    "    return n1 + n2\n",
    "\n",
    "def subtract(n1,n2):\n",
    "    return n1 - n2\n",
    "\n",
    "def multiply(n1,n2):\n",
    "    return n1 * n2\n",
    "\n",
    "def divide(n1,n2):\n",
    "    return n1 / n2\n",
    "\n",
    "operation = {\n",
    "  \"+\":add,\n",
    "  \"-\":subtract,\n",
    "  \"*\":multiply,\n",
    "  \"/\":divide,\n",
    "}\n",
    "\n",
    "def calculator():\n",
    "    num1 = float(input(\"type a number? \\n\"))\n",
    "    \n",
    "    for symbol in operation:\n",
    "        print(symbol)\n",
    "        \n",
    "    should_continue = True\n",
    "    while should_continue:\n",
    "        operation_symbol = input(\"what operation would you like to perform? \\n\")\n",
    "        num2 = float(input(\"type a number? \\n\"))\n",
    "        calculation_function = operation[operation_symbol]\n",
    "        answer = calculation_function(num1, num2)\n",
    "        print(f\"{num1} {operation_symbol} {num2} = {answer}\")\n",
    "        \n",
    "        continue_calculation = input(f\"would like to perform more operations to {answer} ? type 'y' if yes or 'n' if no \\n\")\n",
    "        if continue_calculation == \"y\":\n",
    "            num1 = answer\n",
    "        else:\n",
    "            should_continue = False\n",
    "            calculator()\n",
    "calculator()"
   ]
  },
  {
   "cell_type": "code",
   "execution_count": null,
   "id": "ad158d51",
   "metadata": {},
   "outputs": [],
   "source": []
  }
 ],
 "metadata": {
  "kernelspec": {
   "display_name": "Python 3 (ipykernel)",
   "language": "python",
   "name": "python3"
  },
  "language_info": {
   "codemirror_mode": {
    "name": "ipython",
    "version": 3
   },
   "file_extension": ".py",
   "mimetype": "text/x-python",
   "name": "python",
   "nbconvert_exporter": "python",
   "pygments_lexer": "ipython3",
   "version": "3.9.12"
  }
 },
 "nbformat": 4,
 "nbformat_minor": 5
}
