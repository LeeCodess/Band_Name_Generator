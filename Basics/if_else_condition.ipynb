{
 "cells": [
  {
   "cell_type": "code",
   "execution_count": 30,
   "id": "6df0d822",
   "metadata": {},
   "outputs": [],
   "source": [
    "# project - finding the treasure"
   ]
  },
  {
   "cell_type": "code",
   "execution_count": 43,
   "id": "12d2f546",
   "metadata": {},
   "outputs": [
    {
     "name": "stdout",
     "output_type": "stream",
     "text": [
      "you are at a cross road, would you like take a left or right?\n",
      " i choose left\n",
      "kudos on choosing the left road. you're now at a lake. you have two options. you can either swim to the other side or wait. therefore, would you like to swim or wait?\n",
      " i choose to swim\n",
      "now that you swam all the way accross the lake, you are safe. you can now see three doors; red, yellow, green. choose one door wisely\n",
      " i choose Red\n",
      "oops, game over\n"
     ]
    }
   ],
   "source": [
    "direction = input(\"you are at a cross road, would you like take a left or right?\\n i choose \")\n",
    "if direction.lower() == \"left\":\n",
    "    \n",
    "    activity = input(\"kudos on choosing the left road. you're now at a lake. you have two options. you can either swim to the other side or wait. therefore, would you like to swim or wait?\\n i choose to \") \n",
    "    if activity.lower() == \"swim\":\n",
    "        \n",
    "        colour = input(\"now that you swam all the way accross the lake, you are safe. you can now see three doors; red, yellow, green. choose one door wisely\\n i choose \")\n",
    "        if colour.lower() == \"green\":\n",
    "            print(\"congratulations, you have won the treasure game\")\n",
    "        \n",
    "        else:\n",
    "            print(\"oops, game over\")\n",
    "    \n",
    "    else:\n",
    "        print(\"oops, game over\")\n",
    "\n",
    "else:\n",
    "    print(\"oops, game over\")"
   ]
  }
 ],
 "metadata": {
  "kernelspec": {
   "display_name": "Python 3 (ipykernel)",
   "language": "python",
   "name": "python3"
  },
  "language_info": {
   "codemirror_mode": {
    "name": "ipython",
    "version": 3
   },
   "file_extension": ".py",
   "mimetype": "text/x-python",
   "name": "python",
   "nbconvert_exporter": "python",
   "pygments_lexer": "ipython3",
   "version": "3.9.12"
  }
 },
 "nbformat": 4,
 "nbformat_minor": 5
}
