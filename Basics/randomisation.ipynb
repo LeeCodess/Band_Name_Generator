{
 "cells": [
  {
   "cell_type": "code",
   "execution_count": null,
   "id": "bb16e434",
   "metadata": {},
   "outputs": [],
   "source": [
    "# project - banker roulette "
   ]
  },
  {
   "cell_type": "code",
   "execution_count": null,
   "id": "228f7405",
   "metadata": {},
   "outputs": [],
   "source": [
    "# method 1"
   ]
  },
  {
   "cell_type": "code",
   "execution_count": 4,
   "id": "78a54389",
   "metadata": {
    "scrolled": true
   },
   "outputs": [
    {
     "name": "stdout",
     "output_type": "stream",
     "text": [
      "enter the names of all the people in your group with a comma - raj, manish, swara, rosh, virat\n",
      "['raj', 'manish', 'swara', 'rosh', 'virat']\n",
      "raj is the randomly selected one to pay everybody's food bill\n"
     ]
    }
   ],
   "source": [
    "import random\n",
    "\n",
    "names1 = input('enter the names of all the people in your group with a comma - ').lower()\n",
    "\n",
    "names_list = names1.split(\", \")\n",
    "\n",
    "print(names_list)\n",
    "\n",
    "number_of_names = len(names_list) \n",
    "\n",
    "choosen_person = random.randint(0,number_of_names-1)\n",
    "\n",
    "print(names_list[choosen_person] + \" is the randomly selected one to pay everybody's food bill\")"
   ]
  },
  {
   "cell_type": "code",
   "execution_count": 5,
   "id": "de94df9a",
   "metadata": {},
   "outputs": [],
   "source": [
    "# method 2"
   ]
  },
  {
   "cell_type": "code",
   "execution_count": 10,
   "id": "af856fe2",
   "metadata": {},
   "outputs": [
    {
     "name": "stdout",
     "output_type": "stream",
     "text": [
      "enter the names of all the people in your group with a comma - raj, manish, swara, rosh, virat\n",
      "['raj', 'manish', 'swara', 'rosh', 'virat']\n",
      "virat is the randomly selected one to pay everybody's food bill\n"
     ]
    }
   ],
   "source": [
    "import random\n",
    "\n",
    "names1 = input('enter the names of all the people in your group with a comma - ').lower()\n",
    "names_list = names1.split(\", \")\n",
    "\n",
    "print(names_list)\n",
    "\n",
    "choosen_person = random.choice(names_list)\n",
    "\n",
    "print(choosen_person + \" is the randomly selected one to pay everybody's food bill\")"
   ]
  }
 ],
 "metadata": {
  "kernelspec": {
   "display_name": "Python 3 (ipykernel)",
   "language": "python",
   "name": "python3"
  },
  "language_info": {
   "codemirror_mode": {
    "name": "ipython",
    "version": 3
   },
   "file_extension": ".py",
   "mimetype": "text/x-python",
   "name": "python",
   "nbconvert_exporter": "python",
   "pygments_lexer": "ipython3",
   "version": "3.9.12"
  }
 },
 "nbformat": 4,
 "nbformat_minor": 5
}
