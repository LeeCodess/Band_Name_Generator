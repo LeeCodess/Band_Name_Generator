{
 "cells": [
  {
   "cell_type": "code",
   "execution_count": null,
   "id": "71ee8d55",
   "metadata": {},
   "outputs": [],
   "source": [
    "# project - building a password generator using loops"
   ]
  },
  {
   "cell_type": "code",
   "execution_count": 47,
   "id": "3d920551",
   "metadata": {},
   "outputs": [
    {
     "name": "stdout",
     "output_type": "stream",
     "text": [
      "how many letters would you like in your password?\n",
      "8\n",
      "how many symbols would you like?\n",
      "9\n",
      "how many numbers would you like?\n",
      "7\n",
      "here is your custom password of 24 charaters - 3Ze&8469*C(2$#sxCa&(7P$&\n"
     ]
    }
   ],
   "source": [
    "import random\n",
    "\n",
    "letters = ['a','b','c','d','e','f','g','h','i','j','k','l','m','n','o','p','q','r','s','t','u','v','w','x','y','z', \n",
    "           'A','B','C','D','E','F','G','H','I','J','K','L','M','N','O','P','Q','R','S','T','U','V','W','X','Y','Z']\n",
    "numbers = ['0','1','2','3','4','5','6','7','8','9']\n",
    "symbols = ['!','#','$','%','&','(',')','*','+']\n",
    "\n",
    "user_generated_letters = int(input(\"how many letters would you like in your password?\\n\")) \n",
    "user_generated_symbols = int(input(f\"how many symbols would you like?\\n\"))\n",
    "user_generated_numbers = int(input(f\"how many numbers would you like?\\n\"))\n",
    "\n",
    "password_list = []\n",
    "for x in range(1,user_generated_letters + 1):\n",
    "    password_list.append(random.choice(letters))\n",
    "\n",
    "for x in range(1,user_generated_symbols + 1):\n",
    "    password_list.append(random.choice(symbols))\n",
    "\n",
    "for x in range(1,user_generated_numbers + 1):\n",
    "    password_list.append(random.choice(numbers))\n",
    "\n",
    "random.shuffle(password_list)\n",
    "\n",
    "final_password = \"\"\n",
    "for x in password_list:\n",
    "    final_password += x\n",
    "\n",
    "print(f\"here is your custom password of {len(final_password)} charaters - {final_password}\")"
   ]
  }
 ],
 "metadata": {
  "kernelspec": {
   "display_name": "Python 3 (ipykernel)",
   "language": "python",
   "name": "python3"
  },
  "language_info": {
   "codemirror_mode": {
    "name": "ipython",
    "version": 3
   },
   "file_extension": ".py",
   "mimetype": "text/x-python",
   "name": "python",
   "nbconvert_exporter": "python",
   "pygments_lexer": "ipython3",
   "version": "3.9.12"
  }
 },
 "nbformat": 4,
 "nbformat_minor": 5
}
