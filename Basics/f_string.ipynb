{
 "cells": [
  {
   "cell_type": "code",
   "execution_count": 1,
   "id": "468a1684",
   "metadata": {},
   "outputs": [],
   "source": [
    "# project - finding out how short life is"
   ]
  },
  {
   "cell_type": "code",
   "execution_count": 25,
   "id": "83c721dd",
   "metadata": {},
   "outputs": [
    {
     "name": "stdout",
     "output_type": "stream",
     "text": [
      "what is your current age?\n",
      "23\n"
     ]
    }
   ],
   "source": [
    "current_age = input(\"what is your current age?\\n\")"
   ]
  },
  {
   "cell_type": "code",
   "execution_count": 26,
   "id": "0ad432e0",
   "metadata": {},
   "outputs": [
    {
     "name": "stdout",
     "output_type": "stream",
     "text": [
      "you have 24455 days, 3484 weeks, 804 months are left\n"
     ]
    }
   ],
   "source": [
    "total_number_of_years_to_live = 90\n",
    "\n",
    "total_number_of_days_in_a_year = 365\n",
    "total_number_of_weeks_in_a_year = 52\n",
    "total_number_of_months_in_a_year = 12\n",
    "\n",
    "number_of_years_left_to_live = total_number_of_years_to_live - int(current_age)\n",
    "\n",
    "number_of_days_left_to_live = number_of_years_left_to_live * total_number_of_days_in_a_year\n",
    "number_of_weeks_left_to_live = number_of_years_left_to_live * total_number_of_weeks_in_a_year\n",
    "number_of_months_left_to_live = number_of_years_left_to_live * total_number_of_months_in_a_year\n",
    "\n",
    "print(f\"you have {number_of_days_left_to_live} days, {number_of_weeks_left_to_live} weeks, {number_of_months_left_to_live} months are left\")"
   ]
  }
 ],
 "metadata": {
  "kernelspec": {
   "display_name": "Python 3 (ipykernel)",
   "language": "python",
   "name": "python3"
  },
  "language_info": {
   "codemirror_mode": {
    "name": "ipython",
    "version": 3
   },
   "file_extension": ".py",
   "mimetype": "text/x-python",
   "name": "python",
   "nbconvert_exporter": "python",
   "pygments_lexer": "ipython3",
   "version": "3.9.12"
  }
 },
 "nbformat": 4,
 "nbformat_minor": 5
}
