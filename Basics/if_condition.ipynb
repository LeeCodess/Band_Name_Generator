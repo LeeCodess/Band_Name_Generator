{
 "cells": [
  {
   "cell_type": "code",
   "execution_count": 1,
   "id": "acb8e5ab",
   "metadata": {},
   "outputs": [],
   "source": [
    "# determining whether or not a given year is a leap year"
   ]
  },
  {
   "cell_type": "code",
   "execution_count": 22,
   "id": "7011378e",
   "metadata": {},
   "outputs": [
    {
     "name": "stdout",
     "output_type": "stream",
     "text": [
      "which year do you want to check?\n",
      "2004\n"
     ]
    }
   ],
   "source": [
    "year = int(input(\"which year do you want to check?\\n\"))"
   ]
  },
  {
   "cell_type": "code",
   "execution_count": 23,
   "id": "3df838f3",
   "metadata": {},
   "outputs": [],
   "source": [
    "# if a year % 4 = 0 (leap year)\n",
    "# except for a year % 100 = 0 (not a leap year)\n",
    "# unless that year % 100 = 0 (leap year)"
   ]
  },
  {
   "cell_type": "code",
   "execution_count": 24,
   "id": "fc5bb994",
   "metadata": {},
   "outputs": [
    {
     "name": "stdout",
     "output_type": "stream",
     "text": [
      "2004 is a leap year\n"
     ]
    }
   ],
   "source": [
    "if year % 4 == 0:\n",
    "    if year % 100 == 0:\n",
    "        if year % 400 == 0:\n",
    "            print(f\"{year} is a leap year\")\n",
    "        else:\n",
    "            print(f\"{year} is not a leap year\")\n",
    "    else:\n",
    "        print(f\"{year} is a leap year\")\n",
    "else:\n",
    "    print(f\"{year} is not a leap year\")"
   ]
  }
 ],
 "metadata": {
  "kernelspec": {
   "display_name": "Python 3 (ipykernel)",
   "language": "python",
   "name": "python3"
  },
  "language_info": {
   "codemirror_mode": {
    "name": "ipython",
    "version": 3
   },
   "file_extension": ".py",
   "mimetype": "text/x-python",
   "name": "python",
   "nbconvert_exporter": "python",
   "pygments_lexer": "ipython3",
   "version": "3.9.12"
  }
 },
 "nbformat": 4,
 "nbformat_minor": 5
}
