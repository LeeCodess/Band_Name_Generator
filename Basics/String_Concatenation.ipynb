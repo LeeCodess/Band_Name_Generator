{
 "cells": [
  {
   "cell_type": "code",
   "execution_count": 1,
   "id": "6389563f",
   "metadata": {},
   "outputs": [],
   "source": [
    "# project 1 - generating a band name using string concatenation"
   ]
  },
  {
   "cell_type": "code",
   "execution_count": 2,
   "id": "ba9346fe",
   "metadata": {},
   "outputs": [],
   "source": [
    "# using the print() function"
   ]
  },
  {
   "cell_type": "code",
   "execution_count": 4,
   "id": "5037be76",
   "metadata": {},
   "outputs": [
    {
     "name": "stdout",
     "output_type": "stream",
     "text": [
      "Welcome to LeeCodess :)\n"
     ]
    }
   ],
   "source": [
    "print(\"Welcome to LeeCodess :)\")"
   ]
  },
  {
   "cell_type": "code",
   "execution_count": 5,
   "id": "6bd6efaa",
   "metadata": {},
   "outputs": [],
   "source": [
    "# using the input() function"
   ]
  },
  {
   "cell_type": "code",
   "execution_count": 6,
   "id": "9425d5b8",
   "metadata": {},
   "outputs": [
    {
     "name": "stdout",
     "output_type": "stream",
     "text": [
      "what is your name?\n",
      "swarali yadav\n",
      "hi swarali yadav\n"
     ]
    }
   ],
   "source": [
    "name=input(\"what is your name?\\n\")\n",
    "print(\"hi\"+\" \"+name)"
   ]
  },
  {
   "cell_type": "code",
   "execution_count": 7,
   "id": "9f432e11",
   "metadata": {},
   "outputs": [
    {
     "name": "stdout",
     "output_type": "stream",
     "text": [
      "which city are you from?\n",
      "bombay\n",
      "bombay is a beautiful city\n"
     ]
    }
   ],
   "source": [
    "city=input(\"which city are you from?\\n\")\n",
    "print(city+\" \"+\"is a beautiful city\")"
   ]
  },
  {
   "cell_type": "code",
   "execution_count": 8,
   "id": "ab937d07",
   "metadata": {},
   "outputs": [
    {
     "name": "stdout",
     "output_type": "stream",
     "text": [
      "what would you name your pet?\n",
      "pebbles\n",
      "i hope pebbles is a cat, hahaha\n"
     ]
    }
   ],
   "source": [
    "pet=input(\"what would you name your pet?\\n\")\n",
    "print(\"i hope \"+pet+\" \"+\"is a cat, hahaha\")"
   ]
  },
  {
   "cell_type": "code",
   "execution_count": 9,
   "id": "c361239f",
   "metadata": {},
   "outputs": [
    {
     "name": "stdout",
     "output_type": "stream",
     "text": [
      "swarali yadav, your band name is bombay pebbles!\n"
     ]
    }
   ],
   "source": [
    "print(name+\", your band name is\"+\" \"+city+\" \"+pet+\"!\")"
   ]
  },
  {
   "cell_type": "code",
   "execution_count": 10,
   "id": "8dafab55",
   "metadata": {},
   "outputs": [
    {
     "name": "stdout",
     "output_type": "stream",
     "text": [
      "end\n"
     ]
    }
   ],
   "source": [
    "print(\"end\")"
   ]
  }
 ],
 "metadata": {
  "kernelspec": {
   "display_name": "Python 3 (ipykernel)",
   "language": "python",
   "name": "python3"
  },
  "language_info": {
   "codemirror_mode": {
    "name": "ipython",
    "version": 3
   },
   "file_extension": ".py",
   "mimetype": "text/x-python",
   "name": "python",
   "nbconvert_exporter": "python",
   "pygments_lexer": "ipython3",
   "version": "3.9.12"
  }
 },
 "nbformat": 4,
 "nbformat_minor": 5
}
