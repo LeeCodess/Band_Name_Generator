{
 "cells": [
  {
   "cell_type": "code",
   "execution_count": 1,
   "id": "c6e9bed9",
   "metadata": {},
   "outputs": [],
   "source": [
    "# project 1 - band name generator"
   ]
  },
  {
   "cell_type": "code",
   "execution_count": 15,
   "id": "61a882d3",
   "metadata": {},
   "outputs": [
    {
     "name": "stdout",
     "output_type": "stream",
     "text": [
      "what is your name?\n",
      "swarali\n",
      "hi swarali\n"
     ]
    }
   ],
   "source": [
    "name = input(\"what is your name?\\n\")\n",
    "print(\"hi\"+\" \"+name)"
   ]
  },
  {
   "cell_type": "code",
   "execution_count": 16,
   "id": "646bbaee",
   "metadata": {},
   "outputs": [
    {
     "name": "stdout",
     "output_type": "stream",
     "text": [
      "which city are you from?\n",
      "mumbai\n",
      "mumbai is a beautiful city\n"
     ]
    }
   ],
   "source": [
    "city = input(\"which city are you from?\\n\")\n",
    "print(city +\" \"+\"is a beautiful city\")"
   ]
  },
  {
   "cell_type": "code",
   "execution_count": 17,
   "id": "b996e2e1",
   "metadata": {},
   "outputs": [
    {
     "name": "stdout",
     "output_type": "stream",
     "text": [
      "what would you name your pet?\n",
      "simba\n",
      "i hope simba is a cat, hahaha\n"
     ]
    }
   ],
   "source": [
    "pet = input(\"what would you name your pet?\\n\")\n",
    "print(\"i hope \"+pet+\" \"+\"is a cat, hahaha\")"
   ]
  },
  {
   "cell_type": "code",
   "execution_count": 18,
   "id": "d5d90b7b",
   "metadata": {},
   "outputs": [
    {
     "name": "stdout",
     "output_type": "stream",
     "text": [
      "swarali, your band name is mumbai simba!\n"
     ]
    }
   ],
   "source": [
    "print(name+\", your band name is\"+\" \"+city+\" \"+pet+\"!\")"
   ]
  }
 ],
 "metadata": {
  "kernelspec": {
   "display_name": "Python 3 (ipykernel)",
   "language": "python",
   "name": "python3"
  },
  "language_info": {
   "codemirror_mode": {
    "name": "ipython",
    "version": 3
   },
   "file_extension": ".py",
   "mimetype": "text/x-python",
   "name": "python",
   "nbconvert_exporter": "python",
   "pygments_lexer": "ipython3",
   "version": "3.9.12"
  }
 },
 "nbformat": 4,
 "nbformat_minor": 5
}
