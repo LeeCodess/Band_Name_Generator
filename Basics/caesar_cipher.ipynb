{
 "cells": [
  {
   "cell_type": "code",
   "execution_count": 6,
   "id": "3f51f285",
   "metadata": {},
   "outputs": [],
   "source": [
    "# project - caesar cipher"
   ]
  },
  {
   "cell_type": "code",
   "execution_count": 5,
   "id": "e57ae80f",
   "metadata": {},
   "outputs": [
    {
     "name": "stdout",
     "output_type": "stream",
     "text": [
      "type 'encode' to encrypt or type 'decode' to decrypt - \n",
      "decode\n",
      "type your message - \n",
      "nkrru\n",
      "type the shift number - \n",
      "6\n",
      "The decoded text is hello\n"
     ]
    }
   ],
   "source": [
    "alphabet=['a','b','c','d','e','f','g','h','i','j','k','l','m','n','o','p','q','r','s','t','u','v','w','x','y','z',\n",
    "          'a','b','c','d','e','f','g','h','i','j','k','l','m','n','o','p','q','r','s','t','u','v','w','x','y','z']\n",
    "\n",
    "direction=input(\"type 'encode' to encrypt or type 'decode' to decrypt - \\n\")\n",
    "text=input(\"type your message - \\n\").lower()\n",
    "shift=int(input(\"type the shift number - \\n\"))\n",
    "\n",
    "def encrypt(plain_text, shift_amount):\n",
    "    cipher_text=\"\"\n",
    "    for letter in plain_text:\n",
    "        position=alphabet.index(letter)\n",
    "        new_position=position+shift_amount\n",
    "        cipher_text+=alphabet[new_position]\n",
    "    print(f\"the encoded text is {cipher_text}\")\n",
    "\n",
    "def decrypt(cipher_text, shift_amount):\n",
    "    plain_text=\"\"\n",
    "    for letter in cipher_text:\n",
    "        position=alphabet.index(letter)\n",
    "        new_position=position-shift_amount\n",
    "        plain_text+=alphabet[new_position]\n",
    "    print(f\"The decoded text is {plain_text}\")\n",
    "\n",
    "if direction==\"encode\":\n",
    "    encrypt(plain_text=text, shift_amount=shift)\n",
    "elif direction==\"decode\":\n",
    "    decrypt(cipher_text=text, shift_amount=shift)"
   ]
  },
  {
   "cell_type": "code",
   "execution_count": null,
   "id": "24cf7d16",
   "metadata": {},
   "outputs": [],
   "source": []
  }
 ],
 "metadata": {
  "kernelspec": {
   "display_name": "Python 3 (ipykernel)",
   "language": "python",
   "name": "python3"
  },
  "language_info": {
   "codemirror_mode": {
    "name": "ipython",
    "version": 3
   },
   "file_extension": ".py",
   "mimetype": "text/x-python",
   "name": "python",
   "nbconvert_exporter": "python",
   "pygments_lexer": "ipython3",
   "version": "3.9.12"
  }
 },
 "nbformat": 4,
 "nbformat_minor": 5
}
