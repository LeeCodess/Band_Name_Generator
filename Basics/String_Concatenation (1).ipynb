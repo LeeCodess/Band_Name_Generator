{
 "cells": [
  {
   "cell_type": "code",
   "execution_count": 1,
   "id": "640cb5f4",
   "metadata": {},
   "outputs": [],
   "source": [
    "# project 1 - band name generator"
   ]
  },
  {
   "cell_type": "code",
   "execution_count": 14,
   "id": "7dc36470",
   "metadata": {},
   "outputs": [
    {
     "name": "stdout",
     "output_type": "stream",
     "text": [
      "what is your name?\n",
      "swarali\n",
      "hi swarali\n",
      "which city are you from?\n",
      "mumbai\n",
      "mumbai is a beautiful city\n",
      "what would you name your pet?\n",
      "rocky\n",
      "i hope rocky is a cat, hahaha\n",
      "swarali, your band name is mumbai rocky!\n"
     ]
    }
   ],
   "source": [
    "name = input(\"what is your name?\\n\")\n",
    "print(\"hi\"+\" \"+name)\n",
    "\n",
    "city = input(\"which city are you from?\\n\")\n",
    "print(city +\" \"+\"is a beautiful city\")\n",
    "\n",
    "pet = input(\"what would you name your pet?\\n\")\n",
    "print(\"i hope \"+pet+\" \"+\"is a cat, hahaha\")\n",
    "\n",
    "print(name+\", your band name is\"+\" \"+city+\" \"+pet+\"!\")"
   ]
  }
 ],
 "metadata": {
  "kernelspec": {
   "display_name": "Python 3 (ipykernel)",
   "language": "python",
   "name": "python3"
  },
  "language_info": {
   "codemirror_mode": {
    "name": "ipython",
    "version": 3
   },
   "file_extension": ".py",
   "mimetype": "text/x-python",
   "name": "python",
   "nbconvert_exporter": "python",
   "pygments_lexer": "ipython3",
   "version": "3.9.12"
  }
 },
 "nbformat": 4,
 "nbformat_minor": 5
}
