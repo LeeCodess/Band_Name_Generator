{
 "cells": [
  {
   "cell_type": "code",
   "execution_count": null,
   "id": "04985e44",
   "metadata": {},
   "outputs": [],
   "source": [
    "# using lists to find the treasure"
   ]
  },
  {
   "cell_type": "code",
   "execution_count": 6,
   "id": "4ccd711f",
   "metadata": {},
   "outputs": [
    {
     "name": "stdout",
     "output_type": "stream",
     "text": [
      "['---', '---', '---']\n",
      ",['---', '---', '---']\n",
      ",['---', '---', '---']\n",
      "\n",
      "where do you want the 'x' to be?\n",
      "23\n",
      "['---', '---', '---']\n",
      ",['---', '---', '---']\n",
      ",['---', 'XXX', '---']\n",
      "\n"
     ]
    }
   ],
   "source": [
    "row1=[\"---\",\"---\",\"---\"]\n",
    "row2=[\"---\",\"---\",\"---\"]\n",
    "row3=[\"---\",\"---\",\"---\"]\n",
    "\n",
    "map=[row1,row2,row3]\n",
    "print(f\"{row1}\\n,{row2}\\n,{row3}\\n\")\n",
    "\n",
    "position=input(\"where do you want the 'x' to be?\\n\")\n",
    "\n",
    "horizontal=int(position[0])\n",
    "vertical=int(position[1])\n",
    "\n",
    "map[vertical-1][horizontal-1]='XXX'\n",
    "\n",
    "print(f\"{row1}\\n,{row2}\\n,{row3}\\n\")"
   ]
  }
 ],
 "metadata": {
  "kernelspec": {
   "display_name": "Python 3 (ipykernel)",
   "language": "python",
   "name": "python3"
  },
  "language_info": {
   "codemirror_mode": {
    "name": "ipython",
    "version": 3
   },
   "file_extension": ".py",
   "mimetype": "text/x-python",
   "name": "python",
   "nbconvert_exporter": "python",
   "pygments_lexer": "ipython3",
   "version": "3.9.12"
  }
 },
 "nbformat": 4,
 "nbformat_minor": 5
}
