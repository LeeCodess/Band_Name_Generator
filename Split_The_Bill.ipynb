{
 "cells": [
  {
   "cell_type": "code",
   "execution_count": 44,
   "id": "b389899c",
   "metadata": {},
   "outputs": [],
   "source": [
    "# project 3 - Using Python to Split the Bill"
   ]
  },
  {
   "cell_type": "code",
   "execution_count": 2,
   "id": "15485095",
   "metadata": {},
   "outputs": [],
   "source": [
    "# using the print() function"
   ]
  },
  {
   "cell_type": "code",
   "execution_count": 33,
   "id": "5bbc36e5",
   "metadata": {},
   "outputs": [
    {
     "name": "stdout",
     "output_type": "stream",
     "text": [
      "Welcome to LeeCodess\n"
     ]
    }
   ],
   "source": [
    "print(\"Welcome to LeeCodess\")"
   ]
  },
  {
   "cell_type": "code",
   "execution_count": 34,
   "id": "23c5f86a",
   "metadata": {},
   "outputs": [
    {
     "name": "stdout",
     "output_type": "stream",
     "text": [
      "what is the total bill?\n",
      "54781\n",
      "your total bill amount is rs. 54781\n"
     ]
    }
   ],
   "source": [
    "total_bill = input(\"what is the total bill?\\n\")\n",
    "\n",
    "print(f\"your total bill amount is rs. {total_bill}\")"
   ]
  },
  {
   "cell_type": "code",
   "execution_count": 37,
   "id": "c4c852e5",
   "metadata": {},
   "outputs": [
    {
     "name": "stdout",
     "output_type": "stream",
     "text": [
      "what percentange would you like to tip? 10, 12, 14, 16\n",
      "16.39\n",
      "16.39 % is quite generous of you :)\n"
     ]
    }
   ],
   "source": [
    "tip = input(\"what percentange would you like to tip? 10, 12, 14, 16\\n\")\n",
    "\n",
    "print(f\"{tip} % is quite generous of you :)\")"
   ]
  },
  {
   "cell_type": "code",
   "execution_count": 39,
   "id": "757bed1f",
   "metadata": {},
   "outputs": [
    {
     "name": "stdout",
     "output_type": "stream",
     "text": [
      " your total tip is rs. 8978.6059\n"
     ]
    }
   ],
   "source": [
    "total_tip = float(total_bill) * (float(tip) / 100)\n",
    "\n",
    "print(f\" your total tip is rs. {total_tip}\")"
   ]
  },
  {
   "cell_type": "code",
   "execution_count": 40,
   "id": "dd040b5f",
   "metadata": {},
   "outputs": [
    {
     "name": "stdout",
     "output_type": "stream",
     "text": [
      "your total payable amount is rs. 63759.6059\n"
     ]
    }
   ],
   "source": [
    "bill_plus_tip = float(total_bill) + float(total_tip)\n",
    "\n",
    "print(f\"your total payable amount is rs. {bill_plus_tip}\")"
   ]
  },
  {
   "cell_type": "code",
   "execution_count": 41,
   "id": "0bc30304",
   "metadata": {},
   "outputs": [
    {
     "name": "stdout",
     "output_type": "stream",
     "text": [
      "how many people to split the bill with?\n",
      "9\n"
     ]
    }
   ],
   "source": [
    "total_people = input(\"how many people to split the bill with?\\n\")"
   ]
  },
  {
   "cell_type": "code",
   "execution_count": null,
   "id": "8f73c3ef",
   "metadata": {},
   "outputs": [],
   "source": [
    "# using round() function"
   ]
  },
  {
   "cell_type": "code",
   "execution_count": 42,
   "id": "b10313e9",
   "metadata": {},
   "outputs": [
    {
     "name": "stdout",
     "output_type": "stream",
     "text": [
      "the per head contribution is Rs. 7084.4 !\n"
     ]
    }
   ],
   "source": [
    "tip_per_head = round(float(bill_plus_tip) / int(total_people), 2)\n",
    "\n",
    "print(f\"the per head contribution is Rs. {tip_per_head} !\")"
   ]
  },
  {
   "cell_type": "code",
   "execution_count": 43,
   "id": "35f97489",
   "metadata": {},
   "outputs": [
    {
     "name": "stdout",
     "output_type": "stream",
     "text": [
      "end\n"
     ]
    }
   ],
   "source": [
    "print(\"end\")"
   ]
  }
 ],
 "metadata": {
  "kernelspec": {
   "display_name": "Python 3 (ipykernel)",
   "language": "python",
   "name": "python3"
  },
  "language_info": {
   "codemirror_mode": {
    "name": "ipython",
    "version": 3
   },
   "file_extension": ".py",
   "mimetype": "text/x-python",
   "name": "python",
   "nbconvert_exporter": "python",
   "pygments_lexer": "ipython3",
   "version": "3.9.7"
  }
 },
 "nbformat": 4,
 "nbformat_minor": 5
}
