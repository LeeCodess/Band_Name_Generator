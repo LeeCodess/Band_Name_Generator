{
 "cells": [
  {
   "cell_type": "code",
   "execution_count": null,
   "id": "2bb58659",
   "metadata": {},
   "outputs": [],
   "source": [
    "# project 8 - using python to calculate compatibility"
   ]
  },
  {
   "cell_type": "code",
   "execution_count": 1,
   "id": "4ca6fa55",
   "metadata": {},
   "outputs": [
    {
     "name": "stdout",
     "output_type": "stream",
     "text": [
      "Welcome to LeeCodess :)\n"
     ]
    }
   ],
   "source": [
    "print(\"Welcome to LeeCodess :)\")"
   ]
  },
  {
   "cell_type": "code",
   "execution_count": null,
   "id": "2545d707",
   "metadata": {},
   "outputs": [],
   "source": [
    "# using string concatenation,  logical operators, elif condition, lower() and count() function"
   ]
  },
  {
   "cell_type": "code",
   "execution_count": 9,
   "id": "e6dc1acb",
   "metadata": {},
   "outputs": [
    {
     "name": "stdout",
     "output_type": "stream",
     "text": [
      "What is your name?\n",
      "Swarali Yadav\n",
      "What is your partner's name?\n",
      "Raj Narkar\n",
      "your love score is 42 and you two go together like samosa and chutney\n"
     ]
    }
   ],
   "source": [
    "your_name = input(\"What is your name?\\n\")\n",
    "your_partners_name = input(\"What is your partner's name?\\n\")\n",
    "\n",
    "combined_name = your_name.lower()+your_partners_name.lower()\n",
    "\n",
    "\n",
    "t=combined_name.count(\"t\")\n",
    "r=combined_name.count(\"r\")\n",
    "u=combined_name.count(\"u\")\n",
    "e=combined_name.count(\"e\")\n",
    "\n",
    "true=t+r+u+e\n",
    "\n",
    "l=combined_name.count(\"l\")\n",
    "o=combined_name.count(\"o\")\n",
    "v=combined_name.count(\"v\")\n",
    "e=combined_name.count(\"e\")\n",
    "\n",
    "love=l+o+v+e\n",
    "\n",
    "love_score=int(str(true)+str(love))\n",
    "\n",
    "\n",
    "if love_score<=10 or love_score>=90:\n",
    "  print(f\"your love score is {love_score} and you two go together like coke and mentos\")\n",
    "\n",
    "elif love_score>=40 and love_score<=50:\n",
    "  print(f\"your love score is {love_score} and you two go together like samosa and chutney\")\n",
    "\n",
    "else:\n",
    "  print(f\"your love score is {love_score} and it may be the time to find a new partner\")"
   ]
  },
  {
   "cell_type": "code",
   "execution_count": 10,
   "id": "06cccbb9",
   "metadata": {},
   "outputs": [
    {
     "name": "stdout",
     "output_type": "stream",
     "text": [
      "end\n"
     ]
    }
   ],
   "source": [
    "print(\"end\")"
   ]
  }
 ],
 "metadata": {
  "kernelspec": {
   "display_name": "Python 3 (ipykernel)",
   "language": "python",
   "name": "python3"
  },
  "language_info": {
   "codemirror_mode": {
    "name": "ipython",
    "version": 3
   },
   "file_extension": ".py",
   "mimetype": "text/x-python",
   "name": "python",
   "nbconvert_exporter": "python",
   "pygments_lexer": "ipython3",
   "version": "3.9.7"
  }
 },
 "nbformat": 4,
 "nbformat_minor": 5
}
