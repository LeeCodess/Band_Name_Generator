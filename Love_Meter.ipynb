{
 "cells": [
  {
   "cell_type": "code",
   "execution_count": null,
   "id": "eeb261e7",
   "metadata": {},
   "outputs": [],
   "source": [
    "# project 8 - using python to calculate compatibility"
   ]
  },
  {
   "cell_type": "code",
   "execution_count": 1,
   "id": "878e1d02",
   "metadata": {},
   "outputs": [
    {
     "name": "stdout",
     "output_type": "stream",
     "text": [
      "Welcome to LeeCodess :)\n"
     ]
    }
   ],
   "source": [
    "print(\"Welcome to LeeCodess :)\")"
   ]
  },
  {
   "cell_type": "code",
   "execution_count": null,
   "id": "9857f111",
   "metadata": {},
   "outputs": [],
   "source": [
    "# using string concatenation,  logical operators, elif condition, lower() and count() function"
   ]
  },
  {
   "cell_type": "code",
   "execution_count": 7,
   "id": "2eb1463c",
   "metadata": {},
   "outputs": [
    {
     "name": "stdout",
     "output_type": "stream",
     "text": [
      "What is your name?\n",
      "Swarali Yadav\n",
      "What is your partner's name?\n",
      "Raj Narkar\n",
      "your love score is 42 and you two go together like samosa and chutney\n"
     ]
    }
   ],
   "source": [
    "your_name = input(\"What is your name?\\n\")\n",
    "your_partners_name = input(\"What is your partner's name?\\n\")\n",
    "\n",
    "combined_name = your_name.lower()+your_partners_name.lower()\n",
    "\n",
    "\n",
    "t=combined_name.count(\"t\")\n",
    "r=combined_name.count(\"r\")\n",
    "u=combined_name.count(\"u\")\n",
    "e=combined_name.count(\"e\")\n",
    "\n",
    "true=t+r+u+e\n",
    "\n",
    "l=combined_name.count(\"l\")\n",
    "o=combined_name.count(\"o\")\n",
    "v=combined_name.count(\"v\")\n",
    "e=combined_name.count(\"e\")\n",
    "\n",
    "love=l+o+v+e\n",
    "\n",
    "total_love=int(str(true)+str(love))\n",
    "\n",
    "\n",
    "if total_love<=10 or total_love>=90:\n",
    "  print(f\"your love score is {total_love} and you two go together like coke and mentos\")\n",
    "\n",
    "elif total_love>=40 and total_love<=50:\n",
    "  print(f\"your love score is {total_love} and you two go together like samosa and chutney\")\n",
    "\n",
    "else:\n",
    "  print(f\"your love score is {total_love} and it may be the time to find a new partner\")"
   ]
  }
 ],
 "metadata": {
  "kernelspec": {
   "display_name": "Python 3 (ipykernel)",
   "language": "python",
   "name": "python3"
  },
  "language_info": {
   "codemirror_mode": {
    "name": "ipython",
    "version": 3
   },
   "file_extension": ".py",
   "mimetype": "text/x-python",
   "name": "python",
   "nbconvert_exporter": "python",
   "pygments_lexer": "ipython3",
   "version": "3.9.7"
  }
 },
 "nbformat": 4,
 "nbformat_minor": 5
}
