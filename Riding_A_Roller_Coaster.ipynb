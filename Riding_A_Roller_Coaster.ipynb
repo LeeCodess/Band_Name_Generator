{
 "cells": [
  {
   "cell_type": "code",
   "execution_count": 1,
   "id": "1867348f",
   "metadata": {},
   "outputs": [],
   "source": [
    "# project 6 - combining multiple if conditions together"
   ]
  },
  {
   "cell_type": "code",
   "execution_count": 3,
   "id": "693b0a88",
   "metadata": {},
   "outputs": [
    {
     "name": "stdout",
     "output_type": "stream",
     "text": [
      "Welcome to LeeCodess :)\n"
     ]
    }
   ],
   "source": [
    "print(\"Welcome to LeeCodess :)\")"
   ]
  },
  {
   "cell_type": "code",
   "execution_count": 49,
   "id": "08f4d398",
   "metadata": {},
   "outputs": [
    {
     "name": "stdout",
     "output_type": "stream",
     "text": [
      "what is your height?(in cm)\n",
      "165\n",
      "how old are you?\n",
      "25\n"
     ]
    }
   ],
   "source": [
    "height = int(input(\"what is your height?(in cm)\\n\"))\n",
    "age = int(input(\"how old are you?\\n\"))\n",
    "bill = 0"
   ]
  },
  {
   "cell_type": "code",
   "execution_count": 52,
   "id": "43431cfc",
   "metadata": {},
   "outputs": [],
   "source": [
    "# using multiple if statements in succession"
   ]
  },
  {
   "cell_type": "code",
   "execution_count": 53,
   "id": "3af6dd1a",
   "metadata": {},
   "outputs": [
    {
     "name": "stdout",
     "output_type": "stream",
     "text": [
      "you can ride this roller coaster\n",
      "your bill is rs.300\n",
      "do you want a photo? yes\n",
      "your total bill is rs.500\n"
     ]
    }
   ],
   "source": [
    "if age > 5:\n",
    "    if height > 120:\n",
    "        print(\"you can ride this roller coaster\")\n",
    "        \n",
    "        if age <= 12:\n",
    "            bill = 100\n",
    "            print(\"your bill is rs.100\")\n",
    "        elif age <= 18:\n",
    "            bill = 200\n",
    "            print(\"your bill is rs.200\")\n",
    "        else:\n",
    "            bill = 300\n",
    "            print(\"your bill is rs.300\")\n",
    "            \n",
    "        photo = input(\"do you want a photo? \")\n",
    "        \n",
    "        if photo == \"yes\":\n",
    "            bill += 200\n",
    "            print(f\"your total bill is rs.{bill}\")\n",
    "        \n",
    "    else:    \n",
    "        print(\"you cannot ride this roller coaster\")\n",
    "else:\n",
    "    print(\"you cannot ride this roller coaster\")"
   ]
  },
  {
   "cell_type": "code",
   "execution_count": 43,
   "id": "02d346a1",
   "metadata": {},
   "outputs": [
    {
     "name": "stdout",
     "output_type": "stream",
     "text": [
      "end\n"
     ]
    }
   ],
   "source": [
    "print(\"end\")"
   ]
  }
 ],
 "metadata": {
  "kernelspec": {
   "display_name": "Python 3 (ipykernel)",
   "language": "python",
   "name": "python3"
  },
  "language_info": {
   "codemirror_mode": {
    "name": "ipython",
    "version": 3
   },
   "file_extension": ".py",
   "mimetype": "text/x-python",
   "name": "python",
   "nbconvert_exporter": "python",
   "pygments_lexer": "ipython3",
   "version": "3.9.7"
  }
 },
 "nbformat": 4,
 "nbformat_minor": 5
}
