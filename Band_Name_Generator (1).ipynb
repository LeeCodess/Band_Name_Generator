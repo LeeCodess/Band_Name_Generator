{
 "cells": [
  {
   "cell_type": "code",
   "execution_count": null,
   "id": "777ff8a0",
   "metadata": {},
   "outputs": [],
   "source": [
    "# project 1 - band name generator using string concatenation"
   ]
  },
  {
   "cell_type": "code",
   "execution_count": null,
   "id": "93253b72",
   "metadata": {},
   "outputs": [],
   "source": [
    "# using the print() function"
   ]
  },
  {
   "cell_type": "code",
   "execution_count": 4,
   "id": "90bec85c",
   "metadata": {},
   "outputs": [
    {
     "name": "stdout",
     "output_type": "stream",
     "text": [
      "welcome to LeeCodes\n"
     ]
    }
   ],
   "source": [
    "print(\"welcome to LeeCodes\")"
   ]
  },
  {
   "cell_type": "code",
   "execution_count": null,
   "id": "391354b7",
   "metadata": {},
   "outputs": [],
   "source": [
    "# using the input() function"
   ]
  },
  {
   "cell_type": "code",
   "execution_count": 17,
   "id": "aef52ff2",
   "metadata": {},
   "outputs": [
    {
     "name": "stdout",
     "output_type": "stream",
     "text": [
      "what is your name?\n",
      "swarali\n",
      "hi swarali\n"
     ]
    }
   ],
   "source": [
    "name=input(\"what is your name?\\n\")\n",
    "print(\"hi\"+\" \"+name)"
   ]
  },
  {
   "cell_type": "code",
   "execution_count": 10,
   "id": "4ce9d9b5",
   "metadata": {},
   "outputs": [
    {
     "name": "stdout",
     "output_type": "stream",
     "text": [
      "which city are you from?\n",
      "mumbai\n",
      "mumbai is a beautiful city\n"
     ]
    }
   ],
   "source": [
    "city=input(\"which city are you from?\\n\")\n",
    "print(city+\" \"+\"is a beautiful city\")"
   ]
  },
  {
   "cell_type": "code",
   "execution_count": 13,
   "id": "2452548d",
   "metadata": {},
   "outputs": [
    {
     "name": "stdout",
     "output_type": "stream",
     "text": [
      "what would you name your pet?\n",
      "shiro\n",
      "i hope shiro is a cat, hahaha\n"
     ]
    }
   ],
   "source": [
    "pet=input(\"what would you name your pet?\\n\")\n",
    "print(\"i hope \"+pet+\" \"+\"is a cat, hahaha\")"
   ]
  },
  {
   "cell_type": "code",
   "execution_count": 20,
   "id": "db20fb26",
   "metadata": {},
   "outputs": [
    {
     "name": "stdout",
     "output_type": "stream",
     "text": [
      "swarali, your band name is mumbai shiro\n"
     ]
    }
   ],
   "source": [
    "print(name+\", your band name is\"+\" \"+city+\" \"+pet)"
   ]
  }
 ],
 "metadata": {
  "kernelspec": {
   "display_name": "Python 3 (ipykernel)",
   "language": "python",
   "name": "python3"
  },
  "language_info": {
   "codemirror_mode": {
    "name": "ipython",
    "version": 3
   },
   "file_extension": ".py",
   "mimetype": "text/x-python",
   "name": "python",
   "nbconvert_exporter": "python",
   "pygments_lexer": "ipython3",
   "version": "3.9.7"
  }
 },
 "nbformat": 4,
 "nbformat_minor": 5
}
