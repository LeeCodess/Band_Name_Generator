{
 "cells": [
  {
   "cell_type": "code",
   "execution_count": null,
   "id": "6b3f3066",
   "metadata": {},
   "outputs": [],
   "source": [
    "# project 1 - generating a band name using string concatenation"
   ]
  },
  {
   "cell_type": "code",
   "execution_count": null,
   "id": "d621ad74",
   "metadata": {},
   "outputs": [],
   "source": [
    "# using the print() function"
   ]
  },
  {
   "cell_type": "code",
   "execution_count": 5,
   "id": "90bec85c",
   "metadata": {},
   "outputs": [
    {
     "name": "stdout",
     "output_type": "stream",
     "text": [
      "Welcome to LeeCodess\n"
     ]
    }
   ],
   "source": [
    "print(\"Welcome to LeeCodess\")"
   ]
  },
  {
   "cell_type": "code",
   "execution_count": null,
   "id": "7881dea3",
   "metadata": {},
   "outputs": [],
   "source": [
    "# using the input() function"
   ]
  },
  {
   "cell_type": "code",
   "execution_count": 4,
   "id": "aef52ff2",
   "metadata": {},
   "outputs": [
    {
     "name": "stdout",
     "output_type": "stream",
     "text": [
      "what is your name?\n",
      "swarali\n",
      "hi swarali\n"
     ]
    }
   ],
   "source": [
    "name=input(\"what is your name?\\n\")\n",
    "print(\"hi\"+\" \"+name)\n",
    "\n",
    "city=input(\"which city are you from?\\n\")\n",
    "print(city+\" \"+\"is a beautiful city\")\n",
    "\n",
    "pet=input(\"what would you name your pet?\\n\")\n",
    "print(\"i hope \"+pet+\" \"+\"is a cat, hahaha\")"
   ]
  },
  {
   "cell_type": "code",
   "execution_count": 7,
   "id": "4ce9d9b5",
   "metadata": {},
   "outputs": [
    {
     "name": "stdout",
     "output_type": "stream",
     "text": [
      "which city are you from?\n",
      "bombay\n",
      "bombay is a beautiful city\n"
     ]
    }
   ],
   "source": [
    "city=input(\"which city are you from?\\n\")\n",
    "print(city+\" \"+\"is a beautiful city\")"
   ]
  },
  {
   "cell_type": "code",
   "execution_count": 8,
   "id": "2452548d",
   "metadata": {},
   "outputs": [
    {
     "name": "stdout",
     "output_type": "stream",
     "text": [
      "what would you name your pet?\n",
      "pebbles\n",
      "i hope pebbles is a cat, hahaha\n"
     ]
    }
   ],
   "source": [
    "pet=input(\"what would you name your pet?\\n\")\n",
    "print(\"i hope \"+pet+\" \"+\"is a cat, hahaha\")"
   ]
  },
  {
   "cell_type": "code",
   "execution_count": 9,
   "id": "db20fb26",
   "metadata": {},
   "outputs": [
    {
     "name": "stdout",
     "output_type": "stream",
     "text": [
      "swarali, your band name is bombay pebbles!\n"
     ]
    }
   ],
   "source": [
    "print(name+\", your band name is\"+\" \"+city+\" \"+pet+\"!\")"
   ]
  },
  {
   "cell_type": "code",
   "execution_count": 1,
   "id": "b3c0e639",
   "metadata": {},
   "outputs": [
    {
     "name": "stdout",
     "output_type": "stream",
     "text": [
      "end\n"
     ]
    }
   ],
   "source": [
    "print(\"end\")"
   ]
  }
 ],
 "metadata": {
  "kernelspec": {
   "display_name": "Python 3 (ipykernel)",
   "language": "python",
   "name": "python3"
  },
  "language_info": {
   "codemirror_mode": {
    "name": "ipython",
    "version": 3
   },
   "file_extension": ".py",
   "mimetype": "text/x-python",
   "name": "python",
   "nbconvert_exporter": "python",
   "pygments_lexer": "ipython3",
   "version": "3.9.7"
  }
 },
 "nbformat": 4,
 "nbformat_minor": 5
}
