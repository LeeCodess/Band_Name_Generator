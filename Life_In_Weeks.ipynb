{
 "cells": [
  {
   "cell_type": "code",
   "execution_count": 1,
   "id": "6791d0cc",
   "metadata": {},
   "outputs": [],
   "source": [
    "# project 2 - finding out how short life is"
   ]
  },
  {
   "cell_type": "code",
   "execution_count": 2,
   "id": "1c7d8e72",
   "metadata": {},
   "outputs": [],
   "source": [
    "# using print() function"
   ]
  },
  {
   "cell_type": "code",
   "execution_count": 25,
   "id": "c37ec785",
   "metadata": {},
   "outputs": [
    {
     "name": "stdout",
     "output_type": "stream",
     "text": [
      "Welcome to LeeCodess\n"
     ]
    }
   ],
   "source": [
    "print(\"Welcome to LeeCodess\")"
   ]
  },
  {
   "cell_type": "code",
   "execution_count": 6,
   "id": "9eaec039",
   "metadata": {},
   "outputs": [],
   "source": [
    "# using the input() function"
   ]
  },
  {
   "cell_type": "code",
   "execution_count": 20,
   "id": "40d6c000",
   "metadata": {},
   "outputs": [
    {
     "name": "stdout",
     "output_type": "stream",
     "text": [
      "what is your current age?\n",
      "23\n"
     ]
    }
   ],
   "source": [
    "current_age = input(\"what is your current age?\\n\")\n"
   ]
  },
  {
   "cell_type": "code",
   "execution_count": 21,
   "id": "28056808",
   "metadata": {},
   "outputs": [],
   "source": [
    "# using the f string"
   ]
  },
  {
   "cell_type": "code",
   "execution_count": 22,
   "id": "e9f64d1e",
   "metadata": {
    "scrolled": true
   },
   "outputs": [
    {
     "name": "stdout",
     "output_type": "stream",
     "text": [
      "you have 24455 days, 3484 weeks, 804 months are left\n"
     ]
    }
   ],
   "source": [
    "total_number_of_years_to_live = 90\n",
    "\n",
    "total_number_of_days_in_a_year = 365\n",
    "total_number_of_weeks_in_a_year = 52\n",
    "total_number_of_months_in_a_year = 12\n",
    "\n",
    "number_of_years_left_to_live = total_number_of_years_to_live - int(current_age)\n",
    "\n",
    "number_of_days_left_to_live = number_of_years_left_to_live * total_number_of_days_in_a_year\n",
    "number_of_weeks_left_to_live = number_of_years_left_to_live * total_number_of_weeks_in_a_year\n",
    "number_of_months_left_to_live = number_of_years_left_to_live * total_number_of_months_in_a_year\n",
    "\n",
    "print(f\"you have {number_of_days_left_to_live} days, {number_of_weeks_left_to_live} weeks, {number_of_months_left_to_live} months are left\")"
   ]
  },
  {
   "cell_type": "code",
   "execution_count": 24,
   "id": "3e67c979",
   "metadata": {},
   "outputs": [
    {
     "name": "stdout",
     "output_type": "stream",
     "text": [
      "end\n"
     ]
    }
   ],
   "source": [
    "print(\"end\")"
   ]
  }
 ],
 "metadata": {
  "kernelspec": {
   "display_name": "Python 3 (ipykernel)",
   "language": "python",
   "name": "python3"
  },
  "language_info": {
   "codemirror_mode": {
    "name": "ipython",
    "version": 3
   },
   "file_extension": ".py",
   "mimetype": "text/x-python",
   "name": "python",
   "nbconvert_exporter": "python",
   "pygments_lexer": "ipython3",
   "version": "3.9.7"
  }
 },
 "nbformat": 4,
 "nbformat_minor": 5
}
