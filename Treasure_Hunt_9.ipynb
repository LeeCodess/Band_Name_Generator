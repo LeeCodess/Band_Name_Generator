{
 "cells": [
  {
   "cell_type": "code",
   "execution_count": 41,
   "id": "7845febe",
   "metadata": {},
   "outputs": [],
   "source": [
    "# project 9 - finding the treasure"
   ]
  },
  {
   "cell_type": "code",
   "execution_count": 42,
   "id": "1a74a499",
   "metadata": {},
   "outputs": [
    {
     "name": "stdout",
     "output_type": "stream",
     "text": [
      "Welcome to LeeCodess :)\n"
     ]
    }
   ],
   "source": [
    "print(\"Welcome to LeeCodess :)\")"
   ]
  },
  {
   "cell_type": "code",
   "execution_count": 43,
   "id": "77cb76b8",
   "metadata": {},
   "outputs": [
    {
     "name": "stdout",
     "output_type": "stream",
     "text": [
      "you are at a cross road, would you like take a left or right?\n",
      " i choose Left\n",
      "kudos on choosing the left road. you're now at a lake. you have two options. you can either swim to the other side or wait. therefore, would you like to swim or wait?\n",
      " i choose toSwim\n",
      "now that you swam all the way accross the lake, you are safe. you can now see three doors; red, yellow, green. choose one door wisely\n",
      " i choose Red\n",
      "oops, game over\n"
     ]
    }
   ],
   "source": [
    "direction = input(\"you are at a cross road, would you like take a left or right?\\n i choose \")\n",
    "if direction.lower() == \"left\":\n",
    "    \n",
    "    activity = input(\"kudos on choosing the left road. you're now at a lake. you have two options. you can either swim to the other side or wait. therefore, would you like to swim or wait?\\n i choose to\") \n",
    "    if activity.lower() == \"swim\":\n",
    "        \n",
    "        colour = input(\"now that you swam all the way accross the lake, you are safe. you can now see three doors; red, yellow, green. choose one door wisely\\n i choose \")\n",
    "        if colour.lower() == \"green\":\n",
    "            print(\"congratulations, you have won the treasure game\")\n",
    "        \n",
    "        else:\n",
    "            print(\"oops, game over\")\n",
    "    \n",
    "    else:\n",
    "        print(\"oops, game over\")\n",
    "\n",
    "else:\n",
    "    print(\"oops, game over\")"
   ]
  },
  {
   "cell_type": "code",
   "execution_count": 44,
   "id": "a01ae9a0",
   "metadata": {},
   "outputs": [
    {
     "name": "stdout",
     "output_type": "stream",
     "text": [
      "end\n"
     ]
    }
   ],
   "source": [
    "print(\"end\")"
   ]
  }
 ],
 "metadata": {
  "kernelspec": {
   "display_name": "Python 3 (ipykernel)",
   "language": "python",
   "name": "python3"
  },
  "language_info": {
   "codemirror_mode": {
    "name": "ipython",
    "version": 3
   },
   "file_extension": ".py",
   "mimetype": "text/x-python",
   "name": "python",
   "nbconvert_exporter": "python",
   "pygments_lexer": "ipython3",
   "version": "3.9.7"
  }
 },
 "nbformat": 4,
 "nbformat_minor": 5
}
