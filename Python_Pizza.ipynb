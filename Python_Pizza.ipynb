{
 "cells": [
  {
   "cell_type": "code",
   "execution_count": null,
   "id": "fffbfa16",
   "metadata": {},
   "outputs": [],
   "source": [
    "# project 7 - calculating the total cost of a pizza based on multiple factors"
   ]
  },
  {
   "cell_type": "code",
   "execution_count": 30,
   "id": "8c835474",
   "metadata": {},
   "outputs": [
    {
     "name": "stdout",
     "output_type": "stream",
     "text": [
      "Welcome to LeeCodess :)\n"
     ]
    }
   ],
   "source": [
    "print(\"Welcome to LeeCodess :)\")"
   ]
  },
  {
   "cell_type": "code",
   "execution_count": 32,
   "id": "b167eaeb",
   "metadata": {},
   "outputs": [
    {
     "name": "stdout",
     "output_type": "stream",
     "text": [
      "would you like a small, medium or a large pizza?\n",
      "medium\n",
      "do you want pepporoni on your pizza? yes or no \n",
      "no\n",
      "do you want extra cheese on your pizza? yes or no \n",
      "yes\n",
      "your total bill for a medium pizza is rs.320\n"
     ]
    }
   ],
   "source": [
    "pizza_size = input(\"would you like a small, medium or a large pizza?\\n\")\n",
    "pepporoni = input(\"do you want pepporoni on your pizza? yes or no \\n\")\n",
    "extra_cheese = input(\"do you want extra cheese on your pizza? yes or no \\n\")\n",
    "\n",
    "bill = 0\n",
    "\n",
    "if pizza_size == \"small\":\n",
    "    bill = 100\n",
    "    \n",
    "    if pepporoni == \"yes\":\n",
    "        bill +=50\n",
    "    if extra_cheese == \"yes\":\n",
    "        bill +=60\n",
    "        print(f\"your total bill for a small pizza is rs.{bill}\")\n",
    "    else:\n",
    "        print(f\"your total bill for a small pizza is rs.{bill}\")\n",
    "    \n",
    "    \n",
    "elif pizza_size == \"medium\":\n",
    "    bill = 200\n",
    "    if pepporoni == \"yes\":\n",
    "        bill += 100\n",
    "    \n",
    "    if extra_cheese == \"yes\":\n",
    "        bill +=120\n",
    "        print(f\"your total bill for a medium pizza is rs.{bill}\")\n",
    "    \n",
    "    else:\n",
    "        print(f\"your total bill for a medium pizza is rs.{bill}\")\n",
    "    \n",
    "    \n",
    "elif pizza_size == \"large\":\n",
    "    bill = 400\n",
    "    \n",
    "    if pepporoni == \"yes\":\n",
    "        bill += 200\n",
    "    \n",
    "    if extra_cheese == \"yes\":\n",
    "        bill +=240\n",
    "        print(f\"your total bill for a large pizza is rs.{bill}\")\n",
    "    \n",
    "    else:\n",
    "        print(f\"your total bill for a large pizza is rs.{bill}\")\n",
    "else: \n",
    "    print(f\"your total bill is for a large pizza is rs.{bill}\")"
   ]
  },
  {
   "cell_type": "code",
   "execution_count": 33,
   "id": "1a0ebb28",
   "metadata": {},
   "outputs": [
    {
     "name": "stdout",
     "output_type": "stream",
     "text": [
      "end\n"
     ]
    }
   ],
   "source": [
    "print(\"end\")"
   ]
  }
 ],
 "metadata": {
  "kernelspec": {
   "display_name": "Python 3 (ipykernel)",
   "language": "python",
   "name": "python3"
  },
  "language_info": {
   "codemirror_mode": {
    "name": "ipython",
    "version": 3
   },
   "file_extension": ".py",
   "mimetype": "text/x-python",
   "name": "python",
   "nbconvert_exporter": "python",
   "pygments_lexer": "ipython3",
   "version": "3.9.7"
  }
 },
 "nbformat": 4,
 "nbformat_minor": 5
}
