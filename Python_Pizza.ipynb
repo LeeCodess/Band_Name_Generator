{
 "cells": [
  {
   "cell_type": "code",
   "execution_count": null,
   "id": "56b90a69",
   "metadata": {},
   "outputs": [],
   "source": [
    "# project 7 - calculating the total cost of a pizza based on multiple factors"
   ]
  },
  {
   "cell_type": "code",
   "execution_count": 30,
   "id": "839619b1",
   "metadata": {},
   "outputs": [
    {
     "name": "stdout",
     "output_type": "stream",
     "text": [
      "Welcome to LeeCodess :)\n"
     ]
    }
   ],
   "source": [
    "print(\"Welcome to LeeCodess :)\")"
   ]
  },
  {
   "cell_type": "code",
   "execution_count": 34,
   "id": "dd0e36ca",
   "metadata": {},
   "outputs": [
    {
     "name": "stdout",
     "output_type": "stream",
     "text": [
      "would you like a small, medium or a large pizza?\n",
      "large\n",
      "do you want pepporoni on your pizza? yes or no \n",
      "no\n",
      "do you want extra cheese on your pizza? yes or no \n",
      "yes\n",
      "your total bill for a large pizza is rs.640\n"
     ]
    }
   ],
   "source": [
    "pizza_size = input(\"would you like a small, medium or a large pizza?\\n\")\n",
    "pepporoni = input(\"do you want pepporoni on your pizza? yes or no \\n\")\n",
    "extra_cheese = input(\"do you want extra cheese on your pizza? yes or no \\n\")\n",
    "\n",
    "bill = 0\n",
    "\n",
    "if pizza_size == \"small\":\n",
    "    bill = 100\n",
    "    \n",
    "    if pepporoni == \"yes\":\n",
    "        bill +=50\n",
    "    if extra_cheese == \"yes\":\n",
    "        bill +=60\n",
    "        print(f\"your total bill for a {pizza_size} pizza is rs.{bill}\")\n",
    "    else:\n",
    "        print(f\"your total bill for a {pizza_size} pizza is rs.{bill}\")\n",
    "    \n",
    "    \n",
    "elif pizza_size == \"medium\":\n",
    "    bill = 200\n",
    "    if pepporoni == \"yes\":\n",
    "        bill += 100\n",
    "    \n",
    "    if extra_cheese == \"yes\":\n",
    "        bill +=120\n",
    "        print(f\"your total bill for a {pizza_size} pizza is rs.{bill}\")\n",
    "    \n",
    "    else:\n",
    "        print(f\"your total bill for a {pizza_size} pizza is rs.{bill}\")\n",
    "    \n",
    "    \n",
    "elif pizza_size == \"large\":\n",
    "    bill = 400\n",
    "    \n",
    "    if pepporoni == \"yes\":\n",
    "        bill += 200\n",
    "    \n",
    "    if extra_cheese == \"yes\":\n",
    "        bill +=240\n",
    "        print(f\"your total bill for a {pizza_size} pizza is rs.{bill}\")\n",
    "    \n",
    "    else:\n",
    "        print(f\"your total bill for a {pizza_size} pizza is rs.{bill}\")\n",
    "else: \n",
    "    print(f\"your total bill for a {pizza_size} pizza is rs.{bill}\")"
   ]
  },
  {
   "cell_type": "code",
   "execution_count": 33,
   "id": "86b8858b",
   "metadata": {},
   "outputs": [
    {
     "name": "stdout",
     "output_type": "stream",
     "text": [
      "end\n"
     ]
    }
   ],
   "source": [
    "print(\"end\")"
   ]
  }
 ],
 "metadata": {
  "kernelspec": {
   "display_name": "Python 3 (ipykernel)",
   "language": "python",
   "name": "python3"
  },
  "language_info": {
   "codemirror_mode": {
    "name": "ipython",
    "version": 3
   },
   "file_extension": ".py",
   "mimetype": "text/x-python",
   "name": "python",
   "nbconvert_exporter": "python",
   "pygments_lexer": "ipython3",
   "version": "3.9.7"
  }
 },
 "nbformat": 4,
 "nbformat_minor": 5
}
