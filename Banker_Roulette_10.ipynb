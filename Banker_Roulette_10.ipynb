{
 "cells": [
  {
   "cell_type": "code",
   "execution_count": null,
   "id": "bb16e434",
   "metadata": {},
   "outputs": [],
   "source": [
    "# project 10 - writing a code using randomisation to select a random person from a user generated list who will have to pay everybody's food bill"
   ]
  },
  {
   "cell_type": "code",
   "execution_count": 2,
   "id": "abb66142",
   "metadata": {},
   "outputs": [
    {
     "name": "stdout",
     "output_type": "stream",
     "text": [
      "Welcome to LeeCodess :)\n"
     ]
    }
   ],
   "source": [
    "print(\"Welcome to LeeCodess :)\")"
   ]
  },
  {
   "cell_type": "code",
   "execution_count": 3,
   "id": "642c8dcd",
   "metadata": {},
   "outputs": [],
   "source": [
    "# importing the random module"
   ]
  },
  {
   "cell_type": "code",
   "execution_count": 12,
   "id": "1ca15a43",
   "metadata": {},
   "outputs": [
    {
     "name": "stdout",
     "output_type": "stream",
     "text": [
      "enter the names of all the people in your group with a comma - Swarali,Raj,Manish,rosh,rajvi,ISHA\n",
      "rosh is the randomly selected one to pay everybody's food bill\n"
     ]
    }
   ],
   "source": [
    "import random\n",
    "\n",
    "user_generated_names=input('enter the names of all the people in your group with a comma - ').lower()\n",
    "\n",
    "names_list=user_generated_names.split(\",\")\n",
    "number_of_names=len(names_list)\n",
    "random_person=random.randint(0,number_of_names-1)\n",
    "\n",
    "print(names_list[random_person]+ \" is the randomly selected one to pay everybody's food bill\")"
   ]
  },
  {
   "cell_type": "code",
   "execution_count": 13,
   "id": "b7edb693",
   "metadata": {},
   "outputs": [
    {
     "name": "stdout",
     "output_type": "stream",
     "text": [
      "end\n"
     ]
    }
   ],
   "source": [
    "print(\"end\")"
   ]
  }
 ],
 "metadata": {
  "kernelspec": {
   "display_name": "Python 3 (ipykernel)",
   "language": "python",
   "name": "python3"
  },
  "language_info": {
   "codemirror_mode": {
    "name": "ipython",
    "version": 3
   },
   "file_extension": ".py",
   "mimetype": "text/x-python",
   "name": "python",
   "nbconvert_exporter": "python",
   "pygments_lexer": "ipython3",
   "version": "3.9.12"
  }
 },
 "nbformat": 4,
 "nbformat_minor": 5
}
