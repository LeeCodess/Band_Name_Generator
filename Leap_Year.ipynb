{
 "cells": [
  {
   "cell_type": "code",
   "execution_count": 21,
   "id": "f707fd13",
   "metadata": {
    "scrolled": true
   },
   "outputs": [],
   "source": [
    "# project 5 - calculating if the given year is a leap year or not"
   ]
  },
  {
   "cell_type": "code",
   "execution_count": 22,
   "id": "101d0ce0",
   "metadata": {},
   "outputs": [
    {
     "name": "stdout",
     "output_type": "stream",
     "text": [
      "Welcome to LeeCodess :)\n"
     ]
    }
   ],
   "source": [
    "print(\"Welcome to LeeCodess :)\")"
   ]
  },
  {
   "cell_type": "code",
   "execution_count": 37,
   "id": "f78050f8",
   "metadata": {},
   "outputs": [
    {
     "name": "stdout",
     "output_type": "stream",
     "text": [
      "which year do you want to check?\n",
      "2004\n"
     ]
    }
   ],
   "source": [
    "year = int(input(\"which year do you want to check?\\n\"))"
   ]
  },
  {
   "cell_type": "code",
   "execution_count": 38,
   "id": "b9afeab3",
   "metadata": {},
   "outputs": [],
   "source": [
    "# using if condition "
   ]
  },
  {
   "cell_type": "code",
   "execution_count": 39,
   "id": "9a17ff70",
   "metadata": {},
   "outputs": [],
   "source": [
    "# if a year % 4 = 0 (leap year)\n",
    "# except for a year % 100 = 0 (not a leap year)\n",
    "# unless that year % 100 = 0 (leap year)"
   ]
  },
  {
   "cell_type": "code",
   "execution_count": 40,
   "id": "fb6d09a5",
   "metadata": {},
   "outputs": [
    {
     "name": "stdout",
     "output_type": "stream",
     "text": [
      "2004 is a leap year\n"
     ]
    }
   ],
   "source": [
    "if year % 4 == 0:\n",
    "    if year % 100 == 0:\n",
    "        if year % 400 == 0:\n",
    "            print(f\"{year} is a leap year\")\n",
    "        else:\n",
    "            print(f\"{year} is not a leap year\")\n",
    "    else:\n",
    "        print(f\"{year} is a leap year\")\n",
    "else:\n",
    "    print(f\"{year} is not a leap year\")"
   ]
  },
  {
   "cell_type": "code",
   "execution_count": 28,
   "id": "ab48633e",
   "metadata": {},
   "outputs": [
    {
     "name": "stdout",
     "output_type": "stream",
     "text": [
      "end\n"
     ]
    }
   ],
   "source": [
    "print(\"end\")"
   ]
  }
 ],
 "metadata": {
  "kernelspec": {
   "display_name": "Python 3 (ipykernel)",
   "language": "python",
   "name": "python3"
  },
  "language_info": {
   "codemirror_mode": {
    "name": "ipython",
    "version": 3
   },
   "file_extension": ".py",
   "mimetype": "text/x-python",
   "name": "python",
   "nbconvert_exporter": "python",
   "pygments_lexer": "ipython3",
   "version": "3.9.7"
  }
 },
 "nbformat": 4,
 "nbformat_minor": 5
}
